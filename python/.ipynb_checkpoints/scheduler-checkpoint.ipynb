{
 "cells": [
  {
   "cell_type": "code",
   "execution_count": null,
   "id": "ac11cade",
   "metadata": {},
   "outputs": [
    {
     "name": "stdout",
     "output_type": "stream",
     "text": [
      "0 10 11 * * 3\n",
      "0 11 11 * * 3\n",
      "0 12 11 * * 3\n",
      "0 13 11 * * 3\n",
      "0 14 11 * * 3\n",
      "0 15 11 * * 3\n",
      "0 16 11 * * 3\n"
     ]
    }
   ],
   "source": [
    "import schedule\n",
    "import time\n",
    "import requests\n",
    "\n",
    "jsonData = [\n",
    "  {\n",
    "    \"d\": \"2023-02-23 11:10:00\",\n",
    "    \"T\": 50\n",
    "  },\n",
    "  {\n",
    "    \"d\": \"2023-02-23 11:11:00\",\n",
    "    \"T\": 51\n",
    "  },\n",
    "  {\n",
    "    \"d\": \"2023-02-23 11:12:00\",\n",
    "    \"T\": 52\n",
    "  },\n",
    "  {\n",
    "    \"d\": \"2023-02-23 11:13:00\",\n",
    "    \"T\": 53\n",
    "  },\n",
    "  {\n",
    "    \"d\": \"2023-02-23 11:14:00\",\n",
    "    \"T\": 52\n",
    "  },\n",
    "  {\n",
    "    \"d\": \"2023-02-23 11:15:00\",\n",
    "    \"T\": 50\n",
    "  },\n",
    "  {\n",
    "    \"d\": \"2023-02-23 11:16:00\",\n",
    "    \"T\": 51\n",
    "  }\n",
    "]\n",
    "\n",
    "def post_data(element):\n",
    "    requests.post(\"http://localhost:3000/setT\", json=element)\n",
    "\n",
    "def schedule_jobs(data):\n",
    "    for element in data:\n",
    "        day_of_week = int(time.strptime(element[\"d\"], \"%Y-%m-%d %H:%M:%S\").tm_wday)\n",
    "        t = element[\"d\"].split(\" \")[1]\n",
    "        print(t)\n",
    "        hours, minutes, seconds = map(int, t.split(\":\"))\n",
    "        temp = element[\"T\"]\n",
    "        cron_time_pattern = f\"{seconds} {minutes} {hours} * * {day_of_week}\"\n",
    "        print(cron_time_pattern)\n",
    "        schedule.every().day.at(t).do(post_data, element)\n",
    "        \n",
    "    while True:\n",
    "        schedule.run_pending()\n",
    "        time.sleep(1)\n",
    "\n",
    "schedule_jobs(jsonData)"
   ]
  },
  {
   "cell_type": "code",
   "execution_count": null,
   "id": "1a9e5192",
   "metadata": {},
   "outputs": [],
   "source": []
  }
 ],
 "metadata": {
  "kernelspec": {
   "display_name": "Python 3 (ipykernel)",
   "language": "python",
   "name": "python3"
  },
  "language_info": {
   "codemirror_mode": {
    "name": "ipython",
    "version": 3
   },
   "file_extension": ".py",
   "mimetype": "text/x-python",
   "name": "python",
   "nbconvert_exporter": "python",
   "pygments_lexer": "ipython3",
   "version": "3.9.13"
  }
 },
 "nbformat": 4,
 "nbformat_minor": 5
}
