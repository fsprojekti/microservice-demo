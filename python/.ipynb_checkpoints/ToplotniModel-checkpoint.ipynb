{
 "cells": [
  {
   "cell_type": "code",
   "execution_count": 1,
   "id": "76a1e021",
   "metadata": {},
   "outputs": [],
   "source": [
    "import pandas as pd\n",
    "import matplotlib.pyplot as plt\n",
    "from sklearn.model_selection import train_test_split\n",
    "from statsmodels.tsa.arima.model import ARIMA\n",
    "from statsmodels.tools.eval_measures import rmse\n",
    "from ipywidgets import interact, IntSlider\n",
    "%matplotlib inline"
   ]
  },
  {
   "cell_type": "code",
   "execution_count": 2,
   "id": "9f2f4903",
   "metadata": {},
   "outputs": [],
   "source": [
    "def temp_rate(dmpm, u=1):\n",
    "    dm=dmpm/60 #kg/s\n",
    "    m=10.\n",
    "    P=2000.\n",
    "    c=4184.\n",
    "    Tmv=20.          \n",
    "    Ttv=50.\n",
    "    dT = P*u/(m*c)+dm/m*(Tmv-Ttv)\n",
    "    return dT"
   ]
  },
  {
   "cell_type": "code",
   "execution_count": 6,
   "id": "b2af8dcd",
   "metadata": {
    "scrolled": true
   },
   "outputs": [
    {
     "data": {
      "text/plain": [
       "0.04780114722753346"
      ]
     },
     "execution_count": 6,
     "metadata": {},
     "output_type": "execute_result"
    }
   ],
   "source": [
    "temp_rate(0)"
   ]
  },
  {
   "cell_type": "code",
   "execution_count": 31,
   "id": "729ef41a",
   "metadata": {
    "scrolled": true
   },
   "outputs": [
    {
     "data": {
      "text/plain": [
       "[0.956022944550669]"
      ]
     },
     "execution_count": 31,
     "metadata": {},
     "output_type": "execute_result"
    }
   ],
   "source": [
    "from sympy import symbols, solve\n",
    "u=1.\n",
    "m=10.\n",
    "P=2000.\n",
    "c=4184.\n",
    "Tmv=20.\n",
    "Ttv=50.\n",
    "dm = symbols('dm')\n",
    "dT = P*u/(m*c)+dm/60/m*(Tmv-Ttv)\n",
    "solve(dT)"
   ]
  },
  {
   "cell_type": "code",
   "execution_count": 32,
   "id": "b7fd81a7",
   "metadata": {},
   "outputs": [],
   "source": [
    "def Temp(dmpm, u=1, t=60.):\n",
    "    dm=dmpm/60 #kg/s\n",
    "    m=10.\n",
    "    P=2000.\n",
    "    c=4184.\n",
    "    Tmv=20.\n",
    "    Ttv=50.\n",
    "    T = (-P*u*t/(m*c)-dm/m*t*Tmv+Ttv)/(1-dm/m*t)\n",
    "    return T"
   ]
  },
  {
   "cell_type": "code",
   "execution_count": 33,
   "id": "ef83671b",
   "metadata": {},
   "outputs": [],
   "source": [
    "def TT(dmpm, u=1, t=60):\n",
    "    m=10.\n",
    "    P=2000.\n",
    "    c=4184.\n",
    "    Tmv=20.\n",
    "    Ttv=50.\n",
    "    dm=np.zeros_like(dmpm)\n",
    "    T=np.zeros_like(dmpm)\n",
    "    for i in range(len(dmpm)):\n",
    "        dm[i]=dmpm[i]/60\n",
    "        T[i] = (-P*u*t/(m*c)-dm[i]/m*t*Tmv+Ttv)/(1-dm[i]/m*t)\n",
    "        if T[i] < 50:\n",
    "            T[i] = 50\n",
    "    return T"
   ]
  },
  {
   "cell_type": "code",
   "execution_count": 34,
   "id": "4a349610",
   "metadata": {},
   "outputs": [],
   "source": [
    "testarr = [1., 2., 2., 0, 0, 0, 0, 5., 1., 4., 4., 0, 0, 0]"
   ]
  },
  {
   "cell_type": "code",
   "execution_count": 35,
   "id": "1b14f3f0",
   "metadata": {
    "scrolled": true
   },
   "outputs": [
    {
     "data": {
      "text/plain": [
       "array([50.14659018, 53.91491396, 53.91491396, 50.        , 50.        ,\n",
       "       50.        , 50.        , 74.26386233, 50.14659018, 65.21988528,\n",
       "       65.21988528, 50.        , 50.        , 50.        ])"
      ]
     },
     "execution_count": 35,
     "metadata": {},
     "output_type": "execute_result"
    }
   ],
   "source": [
    "TT(testarr)"
   ]
  },
  {
   "cell_type": "code",
   "execution_count": null,
   "id": "c29526ef",
   "metadata": {},
   "outputs": [],
   "source": []
  },
  {
   "cell_type": "code",
   "execution_count": null,
   "id": "588654ec",
   "metadata": {},
   "outputs": [],
   "source": []
  },
  {
   "cell_type": "code",
   "execution_count": null,
   "id": "caccb6cb",
   "metadata": {},
   "outputs": [],
   "source": []
  }
 ],
 "metadata": {
  "kernelspec": {
   "display_name": "Python 3 (ipykernel)",
   "language": "python",
   "name": "python3"
  },
  "language_info": {
   "codemirror_mode": {
    "name": "ipython",
    "version": 3
   },
   "file_extension": ".py",
   "mimetype": "text/x-python",
   "name": "python",
   "nbconvert_exporter": "python",
   "pygments_lexer": "ipython3",
   "version": "3.9.13"
  }
 },
 "nbformat": 4,
 "nbformat_minor": 5
}
